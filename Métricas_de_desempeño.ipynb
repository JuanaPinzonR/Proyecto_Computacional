{
  "nbformat": 4,
  "nbformat_minor": 0,
  "metadata": {
    "colab": {
      "provenance": [],
      "authorship_tag": "ABX9TyMxUrEQRzxZDCnegZ1oHPQM",
      "include_colab_link": true
    },
    "kernelspec": {
      "name": "python3",
      "display_name": "Python 3"
    },
    "language_info": {
      "name": "python"
    }
  },
  "cells": [
    {
      "cell_type": "markdown",
      "metadata": {
        "id": "view-in-github",
        "colab_type": "text"
      },
      "source": [
        "<a href=\"https://colab.research.google.com/github/JuanaPinzonR/Proyecto_Computacional/blob/main/M%C3%A9tricas_de_desempe%C3%B1o.ipynb\" target=\"_parent\"><img src=\"https://colab.research.google.com/assets/colab-badge.svg\" alt=\"Open In Colab\"/></a>"
      ]
    },
    {
      "cell_type": "markdown",
      "source": [
        "# **Métricas de Desempeño**"
      ],
      "metadata": {
        "id": "3Z18IJU3i1Pb"
      }
    },
    {
      "cell_type": "markdown",
      "source": [
        "*Valentina Naranjo*  58000385"
      ],
      "metadata": {
        "id": "1jLo0Yhfi-4_"
      }
    },
    {
      "cell_type": "markdown",
      "source": [
        "# Importación Datos"
      ],
      "metadata": {
        "id": "9xr0QuKe8eoK"
      }
    },
    {
      "cell_type": "code",
      "execution_count": 1,
      "metadata": {
        "colab": {
          "base_uri": "https://localhost:8080/",
          "height": 206
        },
        "id": "ueuPMaENiUlZ",
        "outputId": "793f3577-80b4-4383-b411-69e44eb3854c"
      },
      "outputs": [
        {
          "output_type": "execute_result",
          "data": {
            "text/plain": [
              "       Fecha        Qobs       Qsim1       Qsim2\n",
              "0 1984-01-01  399.100000  395.000000  399.100000\n",
              "1 1984-02-01  383.541887  386.072562  383.541887\n",
              "2 1984-03-01  296.737445  296.809249  296.737445\n",
              "3 1984-04-01  402.279314  406.060687  402.279314\n",
              "4 1984-05-01  405.470973  407.746351  405.470973"
            ],
            "text/html": [
              "\n",
              "  <div id=\"df-a04b2c42-a675-4514-9606-00624ad753a7\" class=\"colab-df-container\">\n",
              "    <div>\n",
              "<style scoped>\n",
              "    .dataframe tbody tr th:only-of-type {\n",
              "        vertical-align: middle;\n",
              "    }\n",
              "\n",
              "    .dataframe tbody tr th {\n",
              "        vertical-align: top;\n",
              "    }\n",
              "\n",
              "    .dataframe thead th {\n",
              "        text-align: right;\n",
              "    }\n",
              "</style>\n",
              "<table border=\"1\" class=\"dataframe\">\n",
              "  <thead>\n",
              "    <tr style=\"text-align: right;\">\n",
              "      <th></th>\n",
              "      <th>Fecha</th>\n",
              "      <th>Qobs</th>\n",
              "      <th>Qsim1</th>\n",
              "      <th>Qsim2</th>\n",
              "    </tr>\n",
              "  </thead>\n",
              "  <tbody>\n",
              "    <tr>\n",
              "      <th>0</th>\n",
              "      <td>1984-01-01</td>\n",
              "      <td>399.100000</td>\n",
              "      <td>395.000000</td>\n",
              "      <td>399.100000</td>\n",
              "    </tr>\n",
              "    <tr>\n",
              "      <th>1</th>\n",
              "      <td>1984-02-01</td>\n",
              "      <td>383.541887</td>\n",
              "      <td>386.072562</td>\n",
              "      <td>383.541887</td>\n",
              "    </tr>\n",
              "    <tr>\n",
              "      <th>2</th>\n",
              "      <td>1984-03-01</td>\n",
              "      <td>296.737445</td>\n",
              "      <td>296.809249</td>\n",
              "      <td>296.737445</td>\n",
              "    </tr>\n",
              "    <tr>\n",
              "      <th>3</th>\n",
              "      <td>1984-04-01</td>\n",
              "      <td>402.279314</td>\n",
              "      <td>406.060687</td>\n",
              "      <td>402.279314</td>\n",
              "    </tr>\n",
              "    <tr>\n",
              "      <th>4</th>\n",
              "      <td>1984-05-01</td>\n",
              "      <td>405.470973</td>\n",
              "      <td>407.746351</td>\n",
              "      <td>405.470973</td>\n",
              "    </tr>\n",
              "  </tbody>\n",
              "</table>\n",
              "</div>\n",
              "    <div class=\"colab-df-buttons\">\n",
              "\n",
              "  <div class=\"colab-df-container\">\n",
              "    <button class=\"colab-df-convert\" onclick=\"convertToInteractive('df-a04b2c42-a675-4514-9606-00624ad753a7')\"\n",
              "            title=\"Convert this dataframe to an interactive table.\"\n",
              "            style=\"display:none;\">\n",
              "\n",
              "  <svg xmlns=\"http://www.w3.org/2000/svg\" height=\"24px\" viewBox=\"0 -960 960 960\">\n",
              "    <path d=\"M120-120v-720h720v720H120Zm60-500h600v-160H180v160Zm220 220h160v-160H400v160Zm0 220h160v-160H400v160ZM180-400h160v-160H180v160Zm440 0h160v-160H620v160ZM180-180h160v-160H180v160Zm440 0h160v-160H620v160Z\"/>\n",
              "  </svg>\n",
              "    </button>\n",
              "\n",
              "  <style>\n",
              "    .colab-df-container {\n",
              "      display:flex;\n",
              "      gap: 12px;\n",
              "    }\n",
              "\n",
              "    .colab-df-convert {\n",
              "      background-color: #E8F0FE;\n",
              "      border: none;\n",
              "      border-radius: 50%;\n",
              "      cursor: pointer;\n",
              "      display: none;\n",
              "      fill: #1967D2;\n",
              "      height: 32px;\n",
              "      padding: 0 0 0 0;\n",
              "      width: 32px;\n",
              "    }\n",
              "\n",
              "    .colab-df-convert:hover {\n",
              "      background-color: #E2EBFA;\n",
              "      box-shadow: 0px 1px 2px rgba(60, 64, 67, 0.3), 0px 1px 3px 1px rgba(60, 64, 67, 0.15);\n",
              "      fill: #174EA6;\n",
              "    }\n",
              "\n",
              "    .colab-df-buttons div {\n",
              "      margin-bottom: 4px;\n",
              "    }\n",
              "\n",
              "    [theme=dark] .colab-df-convert {\n",
              "      background-color: #3B4455;\n",
              "      fill: #D2E3FC;\n",
              "    }\n",
              "\n",
              "    [theme=dark] .colab-df-convert:hover {\n",
              "      background-color: #434B5C;\n",
              "      box-shadow: 0px 1px 3px 1px rgba(0, 0, 0, 0.15);\n",
              "      filter: drop-shadow(0px 1px 2px rgba(0, 0, 0, 0.3));\n",
              "      fill: #FFFFFF;\n",
              "    }\n",
              "  </style>\n",
              "\n",
              "    <script>\n",
              "      const buttonEl =\n",
              "        document.querySelector('#df-a04b2c42-a675-4514-9606-00624ad753a7 button.colab-df-convert');\n",
              "      buttonEl.style.display =\n",
              "        google.colab.kernel.accessAllowed ? 'block' : 'none';\n",
              "\n",
              "      async function convertToInteractive(key) {\n",
              "        const element = document.querySelector('#df-a04b2c42-a675-4514-9606-00624ad753a7');\n",
              "        const dataTable =\n",
              "          await google.colab.kernel.invokeFunction('convertToInteractive',\n",
              "                                                    [key], {});\n",
              "        if (!dataTable) return;\n",
              "\n",
              "        const docLinkHtml = 'Like what you see? Visit the ' +\n",
              "          '<a target=\"_blank\" href=https://colab.research.google.com/notebooks/data_table.ipynb>data table notebook</a>'\n",
              "          + ' to learn more about interactive tables.';\n",
              "        element.innerHTML = '';\n",
              "        dataTable['output_type'] = 'display_data';\n",
              "        await google.colab.output.renderOutput(dataTable, element);\n",
              "        const docLink = document.createElement('div');\n",
              "        docLink.innerHTML = docLinkHtml;\n",
              "        element.appendChild(docLink);\n",
              "      }\n",
              "    </script>\n",
              "  </div>\n",
              "\n",
              "\n",
              "<div id=\"df-1d961282-aa21-420d-9ba3-e3813f4b6069\">\n",
              "  <button class=\"colab-df-quickchart\" onclick=\"quickchart('df-1d961282-aa21-420d-9ba3-e3813f4b6069')\"\n",
              "            title=\"Suggest charts\"\n",
              "            style=\"display:none;\">\n",
              "\n",
              "<svg xmlns=\"http://www.w3.org/2000/svg\" height=\"24px\"viewBox=\"0 0 24 24\"\n",
              "     width=\"24px\">\n",
              "    <g>\n",
              "        <path d=\"M19 3H5c-1.1 0-2 .9-2 2v14c0 1.1.9 2 2 2h14c1.1 0 2-.9 2-2V5c0-1.1-.9-2-2-2zM9 17H7v-7h2v7zm4 0h-2V7h2v10zm4 0h-2v-4h2v4z\"/>\n",
              "    </g>\n",
              "</svg>\n",
              "  </button>\n",
              "\n",
              "<style>\n",
              "  .colab-df-quickchart {\n",
              "      --bg-color: #E8F0FE;\n",
              "      --fill-color: #1967D2;\n",
              "      --hover-bg-color: #E2EBFA;\n",
              "      --hover-fill-color: #174EA6;\n",
              "      --disabled-fill-color: #AAA;\n",
              "      --disabled-bg-color: #DDD;\n",
              "  }\n",
              "\n",
              "  [theme=dark] .colab-df-quickchart {\n",
              "      --bg-color: #3B4455;\n",
              "      --fill-color: #D2E3FC;\n",
              "      --hover-bg-color: #434B5C;\n",
              "      --hover-fill-color: #FFFFFF;\n",
              "      --disabled-bg-color: #3B4455;\n",
              "      --disabled-fill-color: #666;\n",
              "  }\n",
              "\n",
              "  .colab-df-quickchart {\n",
              "    background-color: var(--bg-color);\n",
              "    border: none;\n",
              "    border-radius: 50%;\n",
              "    cursor: pointer;\n",
              "    display: none;\n",
              "    fill: var(--fill-color);\n",
              "    height: 32px;\n",
              "    padding: 0;\n",
              "    width: 32px;\n",
              "  }\n",
              "\n",
              "  .colab-df-quickchart:hover {\n",
              "    background-color: var(--hover-bg-color);\n",
              "    box-shadow: 0 1px 2px rgba(60, 64, 67, 0.3), 0 1px 3px 1px rgba(60, 64, 67, 0.15);\n",
              "    fill: var(--button-hover-fill-color);\n",
              "  }\n",
              "\n",
              "  .colab-df-quickchart-complete:disabled,\n",
              "  .colab-df-quickchart-complete:disabled:hover {\n",
              "    background-color: var(--disabled-bg-color);\n",
              "    fill: var(--disabled-fill-color);\n",
              "    box-shadow: none;\n",
              "  }\n",
              "\n",
              "  .colab-df-spinner {\n",
              "    border: 2px solid var(--fill-color);\n",
              "    border-color: transparent;\n",
              "    border-bottom-color: var(--fill-color);\n",
              "    animation:\n",
              "      spin 1s steps(1) infinite;\n",
              "  }\n",
              "\n",
              "  @keyframes spin {\n",
              "    0% {\n",
              "      border-color: transparent;\n",
              "      border-bottom-color: var(--fill-color);\n",
              "      border-left-color: var(--fill-color);\n",
              "    }\n",
              "    20% {\n",
              "      border-color: transparent;\n",
              "      border-left-color: var(--fill-color);\n",
              "      border-top-color: var(--fill-color);\n",
              "    }\n",
              "    30% {\n",
              "      border-color: transparent;\n",
              "      border-left-color: var(--fill-color);\n",
              "      border-top-color: var(--fill-color);\n",
              "      border-right-color: var(--fill-color);\n",
              "    }\n",
              "    40% {\n",
              "      border-color: transparent;\n",
              "      border-right-color: var(--fill-color);\n",
              "      border-top-color: var(--fill-color);\n",
              "    }\n",
              "    60% {\n",
              "      border-color: transparent;\n",
              "      border-right-color: var(--fill-color);\n",
              "    }\n",
              "    80% {\n",
              "      border-color: transparent;\n",
              "      border-right-color: var(--fill-color);\n",
              "      border-bottom-color: var(--fill-color);\n",
              "    }\n",
              "    90% {\n",
              "      border-color: transparent;\n",
              "      border-bottom-color: var(--fill-color);\n",
              "    }\n",
              "  }\n",
              "</style>\n",
              "\n",
              "  <script>\n",
              "    async function quickchart(key) {\n",
              "      const quickchartButtonEl =\n",
              "        document.querySelector('#' + key + ' button');\n",
              "      quickchartButtonEl.disabled = true;  // To prevent multiple clicks.\n",
              "      quickchartButtonEl.classList.add('colab-df-spinner');\n",
              "      try {\n",
              "        const charts = await google.colab.kernel.invokeFunction(\n",
              "            'suggestCharts', [key], {});\n",
              "      } catch (error) {\n",
              "        console.error('Error during call to suggestCharts:', error);\n",
              "      }\n",
              "      quickchartButtonEl.classList.remove('colab-df-spinner');\n",
              "      quickchartButtonEl.classList.add('colab-df-quickchart-complete');\n",
              "    }\n",
              "    (() => {\n",
              "      let quickchartButtonEl =\n",
              "        document.querySelector('#df-1d961282-aa21-420d-9ba3-e3813f4b6069 button');\n",
              "      quickchartButtonEl.style.display =\n",
              "        google.colab.kernel.accessAllowed ? 'block' : 'none';\n",
              "    })();\n",
              "  </script>\n",
              "</div>\n",
              "\n",
              "    </div>\n",
              "  </div>\n"
            ],
            "application/vnd.google.colaboratory.intrinsic+json": {
              "type": "dataframe",
              "variable_name": "df",
              "summary": "{\n  \"name\": \"df\",\n  \"rows\": 126,\n  \"fields\": [\n    {\n      \"column\": \"Fecha\",\n      \"properties\": {\n        \"dtype\": \"date\",\n        \"min\": \"1984-01-01 00:00:00\",\n        \"max\": \"1994-06-01 00:00:00\",\n        \"num_unique_values\": 126,\n        \"samples\": [\n          \"1990-02-01 00:00:00\",\n          \"1985-08-01 00:00:00\",\n          \"1993-09-01 00:00:00\"\n        ],\n        \"semantic_type\": \"\",\n        \"description\": \"\"\n      }\n    },\n    {\n      \"column\": \"Qobs\",\n      \"properties\": {\n        \"dtype\": \"number\",\n        \"std\": 150.6983573853668,\n        \"min\": 122.41206676097426,\n        \"max\": 730.6293825068366,\n        \"num_unique_values\": 126,\n        \"samples\": [\n          284.44847226596727,\n          622.8946050559756,\n          328.6974598606579\n        ],\n        \"semantic_type\": \"\",\n        \"description\": \"\"\n      }\n    },\n    {\n      \"column\": \"Qsim1\",\n      \"properties\": {\n        \"dtype\": \"number\",\n        \"std\": 149.8823381617174,\n        \"min\": 115.1769081496605,\n        \"max\": 747.486780396584,\n        \"num_unique_values\": 126,\n        \"samples\": [\n          275.460020083568,\n          615.7172515742988,\n          336.84549755478133\n        ],\n        \"semantic_type\": \"\",\n        \"description\": \"\"\n      }\n    },\n    {\n      \"column\": \"Qsim2\",\n      \"properties\": {\n        \"dtype\": \"number\",\n        \"std\": 150.6983573853668,\n        \"min\": 122.41206676097426,\n        \"max\": 730.6293825068366,\n        \"num_unique_values\": 126,\n        \"samples\": [\n          284.44847226596727,\n          622.8946050559756,\n          328.6974598606579\n        ],\n        \"semantic_type\": \"\",\n        \"description\": \"\"\n      }\n    }\n  ]\n}"
            }
          },
          "metadata": {},
          "execution_count": 1
        }
      ],
      "source": [
        "import pandas as pd\n",
        "\n",
        "excel_path = \"/content/Obs_Sim.xlsx\"\n",
        "df = pd.read_excel(excel_path)\n",
        "\n",
        "df.head()"
      ]
    },
    {
      "cell_type": "markdown",
      "source": [
        "# Implementación de Métricas"
      ],
      "metadata": {
        "id": "XojY-Prii-wD"
      }
    },
    {
      "cell_type": "code",
      "source": [
        "import numpy as np"
      ],
      "metadata": {
        "id": "BUsvNcWsw__S"
      },
      "execution_count": 5,
      "outputs": []
    },
    {
      "cell_type": "markdown",
      "source": [
        "**RMSE – Root Mean Squared Error**"
      ],
      "metadata": {
        "id": "PIKskDrkoUbh"
      }
    },
    {
      "cell_type": "markdown",
      "source": [
        " Calcula la Raíz del Error Cuadrático Medio (RMSE) entre valores observados y simulados.\n",
        "\n",
        "   Parámetros:\n",
        "  obs: Serie de valores observados.\n",
        "   sim: Serie de valores simulados.\n",
        "\n",
        "   Retorna:\n",
        "  El valor del RMSE, representando el error cuadrático medio entre las dos series."
      ],
      "metadata": {
        "id": "5bEeNO74oWmY"
      }
    },
    {
      "cell_type": "code",
      "source": [
        "def rmse(obs, sim):\n",
        "\n",
        "    if len(obs) != len(sim):\n",
        "        raise ValueError(\"Las series deben tener la misma longitud.\")\n",
        "    return np.sqrt(np.mean((np.array(obs) - np.array(sim)) ** 2))\n"
      ],
      "metadata": {
        "id": "IOAsXOynwiES"
      },
      "execution_count": 6,
      "outputs": []
    },
    {
      "cell_type": "markdown",
      "source": [
        " **R² – Coeficiente de determinación**"
      ],
      "metadata": {
        "id": "anLDER2tw3GU"
      }
    },
    {
      "cell_type": "markdown",
      "source": [
        " Calcula el Coeficiente de Determinación (R²) entre valores observados y simulados.\n",
        "\n",
        "   Parámetros:\n",
        "   obs: Serie de valores observados.\n",
        "  sim: Serie de valores simulados.\n",
        "\n",
        "   Retorna:\n",
        "  El valor de R², indicando qué proporción de la varianza de los observados es explicada por los simulados.\n"
      ],
      "metadata": {
        "id": "wjdSdTnH4GXA"
      }
    },
    {
      "cell_type": "code",
      "source": [
        "\n",
        "def rsqr(obs, sim):\n",
        "\n",
        "    if len(obs) != len(sim):\n",
        "        raise ValueError(\"Las series deben tener la misma longitud.\")\n",
        "    obs = np.array(obs)\n",
        "    sim = np.array(sim)\n",
        "    ss_res = np.sum((obs - sim) ** 2)\n",
        "    ss_tot = np.sum((obs - np.mean(obs)) ** 2)\n",
        "    return 1 - (ss_res / ss_tot)\n"
      ],
      "metadata": {
        "id": "WKG9ghgKxDHU"
      },
      "execution_count": 7,
      "outputs": []
    },
    {
      "cell_type": "markdown",
      "source": [
        "**ME – Error Medio**"
      ],
      "metadata": {
        "id": "t7Ntesdn5Jsl"
      }
    },
    {
      "cell_type": "markdown",
      "source": [
        "\n",
        "  Calcula el Error Medio  entre valores observados y simulados.\n",
        "\n",
        "  Parámetros:\n",
        "  obs : Serie de valores observados.\n",
        "   sim : Serie de valores simulados.\n",
        "\n",
        "  Retorna:\n",
        "  El valor del ME, representando el sesgo promedio del modelo."
      ],
      "metadata": {
        "id": "cfCjTFn54qKs"
      }
    },
    {
      "cell_type": "code",
      "source": [
        "def mean_error(obs, sim):\n",
        "\n",
        "    if len(obs) != len(sim):\n",
        "        raise ValueError(\"Las series deben tener la misma longitud.\")\n",
        "    return np.mean(np.array(sim) - np.array(obs))\n"
      ],
      "metadata": {
        "id": "HWXhcczS4qlI"
      },
      "execution_count": 8,
      "outputs": []
    },
    {
      "cell_type": "markdown",
      "source": [
        "**PI – Índice de Persistencia**"
      ],
      "metadata": {
        "id": "cticfwtQ5NYn"
      }
    },
    {
      "cell_type": "markdown",
      "source": [
        "   Calcula el Índice de Persistencia (PI) entre valores observados y simulados.\n",
        "\n",
        "  Parámetros:\n",
        "  obs : Serie de valores observados.\n",
        "      sim : Serie de valores simulados.\n",
        "\n",
        "   Retorna:\n",
        "   \n",
        " El valor del PI, que compara el modelo con un modelo persistente de un paso.\n"
      ],
      "metadata": {
        "id": "UTlJ04Pq5NVo"
      }
    },
    {
      "cell_type": "code",
      "source": [
        "def persistence_index(obs, sim):\n",
        "\n",
        "    if len(obs) != len(sim):\n",
        "        raise ValueError(\"Las series deben tener la misma longitud.\")\n",
        "    obs = np.array(obs)\n",
        "    sim = np.array(sim)\n",
        "    y_persist = np.roll(obs, 1)\n",
        "    y_persist[0] = obs[0]\n",
        "    ss_sim = np.sum((obs - sim) ** 2)\n",
        "    ss_persist = np.sum((obs - y_persist) ** 2)\n",
        "    return 1 - (ss_sim / ss_persist)\n"
      ],
      "metadata": {
        "id": "3p1EzO_O5N5w"
      },
      "execution_count": 9,
      "outputs": []
    },
    {
      "cell_type": "markdown",
      "source": [
        "**PEP – Error porcentual en el pico**"
      ],
      "metadata": {
        "id": "mW3_oJUo5eiR"
      }
    },
    {
      "cell_type": "markdown",
      "source": [
        "  Calcula el Error Porcentual en el Pico (PEP) entre valores observados y simulados.\n",
        "\n",
        "   Parámetros:\n",
        "  obs : Serie de valores observados.\n",
        "  sim : Serie de valores simulados.\n",
        "\n",
        "  Retorna:  El valor del PEP en porcentaje, evaluando el error en el valor máximo observado."
      ],
      "metadata": {
        "id": "6WD6MF5c5efk"
      }
    },
    {
      "cell_type": "code",
      "source": [
        "def percent_error_in_peak(obs, sim):\n",
        "\n",
        "    if len(obs) != len(sim):\n",
        "        raise ValueError(\"Las series deben tener la misma longitud.\")\n",
        "    obs = np.array(obs)\n",
        "    sim = np.array(sim)\n",
        "    peak_obs = np.max(obs)\n",
        "    peak_sim = sim[np.argmax(obs)]\n",
        "    return 100 * np.abs((peak_obs - peak_sim) / peak_obs)\n"
      ],
      "metadata": {
        "id": "IW_VVFMX5fbP"
      },
      "execution_count": 10,
      "outputs": []
    },
    {
      "cell_type": "code",
      "source": [
        "results_df"
      ],
      "metadata": {
        "colab": {
          "base_uri": "https://localhost:8080/",
          "height": 206
        },
        "id": "ancuTJ2I501U",
        "outputId": "ac1a36e1-ae8f-4ac9-c297-b6a39e0b11f0"
      },
      "execution_count": 11,
      "outputs": [
        {
          "output_type": "execute_result",
          "data": {
            "text/plain": [
              "  Métrica      Qsim1  Qsim2\n",
              "0    RMSE  13.441635    0.0\n",
              "1      R²   0.991980    1.0\n",
              "2      ME   1.703332    0.0\n",
              "3      PI   0.987208    1.0\n",
              "4     PEP   1.476872    0.0"
            ],
            "text/html": [
              "\n",
              "  <div id=\"df-f165db3c-4529-4e02-bb00-b868018a9c95\" class=\"colab-df-container\">\n",
              "    <div>\n",
              "<style scoped>\n",
              "    .dataframe tbody tr th:only-of-type {\n",
              "        vertical-align: middle;\n",
              "    }\n",
              "\n",
              "    .dataframe tbody tr th {\n",
              "        vertical-align: top;\n",
              "    }\n",
              "\n",
              "    .dataframe thead th {\n",
              "        text-align: right;\n",
              "    }\n",
              "</style>\n",
              "<table border=\"1\" class=\"dataframe\">\n",
              "  <thead>\n",
              "    <tr style=\"text-align: right;\">\n",
              "      <th></th>\n",
              "      <th>Métrica</th>\n",
              "      <th>Qsim1</th>\n",
              "      <th>Qsim2</th>\n",
              "    </tr>\n",
              "  </thead>\n",
              "  <tbody>\n",
              "    <tr>\n",
              "      <th>0</th>\n",
              "      <td>RMSE</td>\n",
              "      <td>13.441635</td>\n",
              "      <td>0.0</td>\n",
              "    </tr>\n",
              "    <tr>\n",
              "      <th>1</th>\n",
              "      <td>R²</td>\n",
              "      <td>0.991980</td>\n",
              "      <td>1.0</td>\n",
              "    </tr>\n",
              "    <tr>\n",
              "      <th>2</th>\n",
              "      <td>ME</td>\n",
              "      <td>1.703332</td>\n",
              "      <td>0.0</td>\n",
              "    </tr>\n",
              "    <tr>\n",
              "      <th>3</th>\n",
              "      <td>PI</td>\n",
              "      <td>0.987208</td>\n",
              "      <td>1.0</td>\n",
              "    </tr>\n",
              "    <tr>\n",
              "      <th>4</th>\n",
              "      <td>PEP</td>\n",
              "      <td>1.476872</td>\n",
              "      <td>0.0</td>\n",
              "    </tr>\n",
              "  </tbody>\n",
              "</table>\n",
              "</div>\n",
              "    <div class=\"colab-df-buttons\">\n",
              "\n",
              "  <div class=\"colab-df-container\">\n",
              "    <button class=\"colab-df-convert\" onclick=\"convertToInteractive('df-f165db3c-4529-4e02-bb00-b868018a9c95')\"\n",
              "            title=\"Convert this dataframe to an interactive table.\"\n",
              "            style=\"display:none;\">\n",
              "\n",
              "  <svg xmlns=\"http://www.w3.org/2000/svg\" height=\"24px\" viewBox=\"0 -960 960 960\">\n",
              "    <path d=\"M120-120v-720h720v720H120Zm60-500h600v-160H180v160Zm220 220h160v-160H400v160Zm0 220h160v-160H400v160ZM180-400h160v-160H180v160Zm440 0h160v-160H620v160ZM180-180h160v-160H180v160Zm440 0h160v-160H620v160Z\"/>\n",
              "  </svg>\n",
              "    </button>\n",
              "\n",
              "  <style>\n",
              "    .colab-df-container {\n",
              "      display:flex;\n",
              "      gap: 12px;\n",
              "    }\n",
              "\n",
              "    .colab-df-convert {\n",
              "      background-color: #E8F0FE;\n",
              "      border: none;\n",
              "      border-radius: 50%;\n",
              "      cursor: pointer;\n",
              "      display: none;\n",
              "      fill: #1967D2;\n",
              "      height: 32px;\n",
              "      padding: 0 0 0 0;\n",
              "      width: 32px;\n",
              "    }\n",
              "\n",
              "    .colab-df-convert:hover {\n",
              "      background-color: #E2EBFA;\n",
              "      box-shadow: 0px 1px 2px rgba(60, 64, 67, 0.3), 0px 1px 3px 1px rgba(60, 64, 67, 0.15);\n",
              "      fill: #174EA6;\n",
              "    }\n",
              "\n",
              "    .colab-df-buttons div {\n",
              "      margin-bottom: 4px;\n",
              "    }\n",
              "\n",
              "    [theme=dark] .colab-df-convert {\n",
              "      background-color: #3B4455;\n",
              "      fill: #D2E3FC;\n",
              "    }\n",
              "\n",
              "    [theme=dark] .colab-df-convert:hover {\n",
              "      background-color: #434B5C;\n",
              "      box-shadow: 0px 1px 3px 1px rgba(0, 0, 0, 0.15);\n",
              "      filter: drop-shadow(0px 1px 2px rgba(0, 0, 0, 0.3));\n",
              "      fill: #FFFFFF;\n",
              "    }\n",
              "  </style>\n",
              "\n",
              "    <script>\n",
              "      const buttonEl =\n",
              "        document.querySelector('#df-f165db3c-4529-4e02-bb00-b868018a9c95 button.colab-df-convert');\n",
              "      buttonEl.style.display =\n",
              "        google.colab.kernel.accessAllowed ? 'block' : 'none';\n",
              "\n",
              "      async function convertToInteractive(key) {\n",
              "        const element = document.querySelector('#df-f165db3c-4529-4e02-bb00-b868018a9c95');\n",
              "        const dataTable =\n",
              "          await google.colab.kernel.invokeFunction('convertToInteractive',\n",
              "                                                    [key], {});\n",
              "        if (!dataTable) return;\n",
              "\n",
              "        const docLinkHtml = 'Like what you see? Visit the ' +\n",
              "          '<a target=\"_blank\" href=https://colab.research.google.com/notebooks/data_table.ipynb>data table notebook</a>'\n",
              "          + ' to learn more about interactive tables.';\n",
              "        element.innerHTML = '';\n",
              "        dataTable['output_type'] = 'display_data';\n",
              "        await google.colab.output.renderOutput(dataTable, element);\n",
              "        const docLink = document.createElement('div');\n",
              "        docLink.innerHTML = docLinkHtml;\n",
              "        element.appendChild(docLink);\n",
              "      }\n",
              "    </script>\n",
              "  </div>\n",
              "\n",
              "\n",
              "<div id=\"df-10e05ead-77f1-435c-b31e-aa7c0d887dcd\">\n",
              "  <button class=\"colab-df-quickchart\" onclick=\"quickchart('df-10e05ead-77f1-435c-b31e-aa7c0d887dcd')\"\n",
              "            title=\"Suggest charts\"\n",
              "            style=\"display:none;\">\n",
              "\n",
              "<svg xmlns=\"http://www.w3.org/2000/svg\" height=\"24px\"viewBox=\"0 0 24 24\"\n",
              "     width=\"24px\">\n",
              "    <g>\n",
              "        <path d=\"M19 3H5c-1.1 0-2 .9-2 2v14c0 1.1.9 2 2 2h14c1.1 0 2-.9 2-2V5c0-1.1-.9-2-2-2zM9 17H7v-7h2v7zm4 0h-2V7h2v10zm4 0h-2v-4h2v4z\"/>\n",
              "    </g>\n",
              "</svg>\n",
              "  </button>\n",
              "\n",
              "<style>\n",
              "  .colab-df-quickchart {\n",
              "      --bg-color: #E8F0FE;\n",
              "      --fill-color: #1967D2;\n",
              "      --hover-bg-color: #E2EBFA;\n",
              "      --hover-fill-color: #174EA6;\n",
              "      --disabled-fill-color: #AAA;\n",
              "      --disabled-bg-color: #DDD;\n",
              "  }\n",
              "\n",
              "  [theme=dark] .colab-df-quickchart {\n",
              "      --bg-color: #3B4455;\n",
              "      --fill-color: #D2E3FC;\n",
              "      --hover-bg-color: #434B5C;\n",
              "      --hover-fill-color: #FFFFFF;\n",
              "      --disabled-bg-color: #3B4455;\n",
              "      --disabled-fill-color: #666;\n",
              "  }\n",
              "\n",
              "  .colab-df-quickchart {\n",
              "    background-color: var(--bg-color);\n",
              "    border: none;\n",
              "    border-radius: 50%;\n",
              "    cursor: pointer;\n",
              "    display: none;\n",
              "    fill: var(--fill-color);\n",
              "    height: 32px;\n",
              "    padding: 0;\n",
              "    width: 32px;\n",
              "  }\n",
              "\n",
              "  .colab-df-quickchart:hover {\n",
              "    background-color: var(--hover-bg-color);\n",
              "    box-shadow: 0 1px 2px rgba(60, 64, 67, 0.3), 0 1px 3px 1px rgba(60, 64, 67, 0.15);\n",
              "    fill: var(--button-hover-fill-color);\n",
              "  }\n",
              "\n",
              "  .colab-df-quickchart-complete:disabled,\n",
              "  .colab-df-quickchart-complete:disabled:hover {\n",
              "    background-color: var(--disabled-bg-color);\n",
              "    fill: var(--disabled-fill-color);\n",
              "    box-shadow: none;\n",
              "  }\n",
              "\n",
              "  .colab-df-spinner {\n",
              "    border: 2px solid var(--fill-color);\n",
              "    border-color: transparent;\n",
              "    border-bottom-color: var(--fill-color);\n",
              "    animation:\n",
              "      spin 1s steps(1) infinite;\n",
              "  }\n",
              "\n",
              "  @keyframes spin {\n",
              "    0% {\n",
              "      border-color: transparent;\n",
              "      border-bottom-color: var(--fill-color);\n",
              "      border-left-color: var(--fill-color);\n",
              "    }\n",
              "    20% {\n",
              "      border-color: transparent;\n",
              "      border-left-color: var(--fill-color);\n",
              "      border-top-color: var(--fill-color);\n",
              "    }\n",
              "    30% {\n",
              "      border-color: transparent;\n",
              "      border-left-color: var(--fill-color);\n",
              "      border-top-color: var(--fill-color);\n",
              "      border-right-color: var(--fill-color);\n",
              "    }\n",
              "    40% {\n",
              "      border-color: transparent;\n",
              "      border-right-color: var(--fill-color);\n",
              "      border-top-color: var(--fill-color);\n",
              "    }\n",
              "    60% {\n",
              "      border-color: transparent;\n",
              "      border-right-color: var(--fill-color);\n",
              "    }\n",
              "    80% {\n",
              "      border-color: transparent;\n",
              "      border-right-color: var(--fill-color);\n",
              "      border-bottom-color: var(--fill-color);\n",
              "    }\n",
              "    90% {\n",
              "      border-color: transparent;\n",
              "      border-bottom-color: var(--fill-color);\n",
              "    }\n",
              "  }\n",
              "</style>\n",
              "\n",
              "  <script>\n",
              "    async function quickchart(key) {\n",
              "      const quickchartButtonEl =\n",
              "        document.querySelector('#' + key + ' button');\n",
              "      quickchartButtonEl.disabled = true;  // To prevent multiple clicks.\n",
              "      quickchartButtonEl.classList.add('colab-df-spinner');\n",
              "      try {\n",
              "        const charts = await google.colab.kernel.invokeFunction(\n",
              "            'suggestCharts', [key], {});\n",
              "      } catch (error) {\n",
              "        console.error('Error during call to suggestCharts:', error);\n",
              "      }\n",
              "      quickchartButtonEl.classList.remove('colab-df-spinner');\n",
              "      quickchartButtonEl.classList.add('colab-df-quickchart-complete');\n",
              "    }\n",
              "    (() => {\n",
              "      let quickchartButtonEl =\n",
              "        document.querySelector('#df-10e05ead-77f1-435c-b31e-aa7c0d887dcd button');\n",
              "      quickchartButtonEl.style.display =\n",
              "        google.colab.kernel.accessAllowed ? 'block' : 'none';\n",
              "    })();\n",
              "  </script>\n",
              "</div>\n",
              "\n",
              "  <div id=\"id_542a0db9-e4ff-4303-a2a5-a1552b1c2f0e\">\n",
              "    <style>\n",
              "      .colab-df-generate {\n",
              "        background-color: #E8F0FE;\n",
              "        border: none;\n",
              "        border-radius: 50%;\n",
              "        cursor: pointer;\n",
              "        display: none;\n",
              "        fill: #1967D2;\n",
              "        height: 32px;\n",
              "        padding: 0 0 0 0;\n",
              "        width: 32px;\n",
              "      }\n",
              "\n",
              "      .colab-df-generate:hover {\n",
              "        background-color: #E2EBFA;\n",
              "        box-shadow: 0px 1px 2px rgba(60, 64, 67, 0.3), 0px 1px 3px 1px rgba(60, 64, 67, 0.15);\n",
              "        fill: #174EA6;\n",
              "      }\n",
              "\n",
              "      [theme=dark] .colab-df-generate {\n",
              "        background-color: #3B4455;\n",
              "        fill: #D2E3FC;\n",
              "      }\n",
              "\n",
              "      [theme=dark] .colab-df-generate:hover {\n",
              "        background-color: #434B5C;\n",
              "        box-shadow: 0px 1px 3px 1px rgba(0, 0, 0, 0.15);\n",
              "        filter: drop-shadow(0px 1px 2px rgba(0, 0, 0, 0.3));\n",
              "        fill: #FFFFFF;\n",
              "      }\n",
              "    </style>\n",
              "    <button class=\"colab-df-generate\" onclick=\"generateWithVariable('results_df')\"\n",
              "            title=\"Generate code using this dataframe.\"\n",
              "            style=\"display:none;\">\n",
              "\n",
              "  <svg xmlns=\"http://www.w3.org/2000/svg\" height=\"24px\"viewBox=\"0 0 24 24\"\n",
              "       width=\"24px\">\n",
              "    <path d=\"M7,19H8.4L18.45,9,17,7.55,7,17.6ZM5,21V16.75L18.45,3.32a2,2,0,0,1,2.83,0l1.4,1.43a1.91,1.91,0,0,1,.58,1.4,1.91,1.91,0,0,1-.58,1.4L9.25,21ZM18.45,9,17,7.55Zm-12,3A5.31,5.31,0,0,0,4.9,8.1,5.31,5.31,0,0,0,1,6.5,5.31,5.31,0,0,0,4.9,4.9,5.31,5.31,0,0,0,6.5,1,5.31,5.31,0,0,0,8.1,4.9,5.31,5.31,0,0,0,12,6.5,5.46,5.46,0,0,0,6.5,12Z\"/>\n",
              "  </svg>\n",
              "    </button>\n",
              "    <script>\n",
              "      (() => {\n",
              "      const buttonEl =\n",
              "        document.querySelector('#id_542a0db9-e4ff-4303-a2a5-a1552b1c2f0e button.colab-df-generate');\n",
              "      buttonEl.style.display =\n",
              "        google.colab.kernel.accessAllowed ? 'block' : 'none';\n",
              "\n",
              "      buttonEl.onclick = () => {\n",
              "        google.colab.notebook.generateWithVariable('results_df');\n",
              "      }\n",
              "      })();\n",
              "    </script>\n",
              "  </div>\n",
              "\n",
              "    </div>\n",
              "  </div>\n"
            ],
            "application/vnd.google.colaboratory.intrinsic+json": {
              "type": "dataframe",
              "variable_name": "results_df",
              "summary": "{\n  \"name\": \"results_df\",\n  \"rows\": 5,\n  \"fields\": [\n    {\n      \"column\": \"M\\u00e9trica\",\n      \"properties\": {\n        \"dtype\": \"string\",\n        \"num_unique_values\": 5,\n        \"samples\": [\n          \"R\\u00b2\",\n          \"PEP\",\n          \"ME\"\n        ],\n        \"semantic_type\": \"\",\n        \"description\": \"\"\n      }\n    },\n    {\n      \"column\": \"Qsim1\",\n      \"properties\": {\n        \"dtype\": \"number\",\n        \"std\": 5.443321643895109,\n        \"min\": 0.9872083871192391,\n        \"max\": 13.441635103685996,\n        \"num_unique_values\": 5,\n        \"samples\": [\n          0.9919804924947304,\n          1.4768724902495505,\n          1.7033315245276452\n        ],\n        \"semantic_type\": \"\",\n        \"description\": \"\"\n      }\n    },\n    {\n      \"column\": \"Qsim2\",\n      \"properties\": {\n        \"dtype\": \"number\",\n        \"std\": 0.5477225575051662,\n        \"min\": 0.0,\n        \"max\": 1.0,\n        \"num_unique_values\": 2,\n        \"samples\": [\n          1.0,\n          0.0\n        ],\n        \"semantic_type\": \"\",\n        \"description\": \"\"\n      }\n    }\n  ]\n}"
            }
          },
          "metadata": {},
          "execution_count": 11
        }
      ]
    },
    {
      "cell_type": "markdown",
      "source": [
        "# **Análisis**"
      ],
      "metadata": {
        "id": "dDir7xsJ6oXI"
      }
    },
    {
      "cell_type": "code",
      "source": [
        "import matplotlib.pyplot as plt\n",
        "\n",
        "results_df = pd.DataFrame({\n",
        "    'Métrica': ['RMSE', 'R²', 'ME', 'PI', 'PEP'],\n",
        "    'Qsim1': [13.441635, 0.991980, 1.703332, 0.987208, 1.476872],\n",
        "    'Qsim2': [0.0, 1.0, 0.0, 1.0, 0.0]\n",
        "})\n",
        "\n",
        "fig, ax = plt.subplots(figsize=(8, 5))\n",
        "x = results_df['Métrica']\n",
        "qsim1 = results_df['Qsim1']\n",
        "qsim2 = results_df['Qsim2']\n",
        "\n",
        "width = 0.35\n",
        "indices = range(len(x))\n",
        "\n",
        "ax.bar([i - width/2 for i in indices], qsim1, width=width, label='Qsim1', color='pink')\n",
        "ax.bar([i + width/2 for i in indices], qsim2, width=width, label='Qsim2', color='purple')\n",
        "\n",
        "ax.set_ylabel('Valor de la métrica')\n",
        "ax.set_title('Comparación de métricas de desempeño')\n",
        "ax.set_xticks(indices)\n",
        "ax.set_xticklabels(x)\n",
        "ax.legend()\n",
        "plt.tight_layout()\n",
        "plt.grid(True, axis='y', linestyle='--', alpha=0.5)\n"
      ],
      "metadata": {
        "colab": {
          "base_uri": "https://localhost:8080/",
          "height": 507
        },
        "id": "njPRGn186blh",
        "outputId": "007eff5d-8d7d-40d2-b689-41d109afbdff"
      },
      "execution_count": 19,
      "outputs": [
        {
          "output_type": "display_data",
          "data": {
            "text/plain": [
              "<Figure size 800x500 with 1 Axes>"
            ],
            "image/png": "[encoded data removed]"
          },
          "metadata": {}
        }
      ]
    },
    {
      "cell_type": "markdown",
      "source": [
        "# **Conclusiones**"
      ],
      "metadata": {
        "id": "ZFnP9ZIe777B"
      }
    },
    {
      "cell_type": "markdown",
      "source": [
        "Los resultados obtenidos muestran una clara diferencia en el desempeño de las dos simulaciones frente a los valores observados. La serie Qsim2 presenta un ajuste perfecto en todas las métricas, con valores ideales de RMSE = 0, R² = 1, ME = 0, PI = 1 y PEP = 0%, lo cual indica que esta serie es idéntica a los datos observados. En contraste, Qsim1 muestra un desempeño también muy alto, aunque no perfecto. El valor de RMSE (13.44) revela una dispersión promedio moderada respecto a los observados, mientras que el R² de 0.99 muestra que la mayor parte de la variabilidad de los datos es explicada por la simulación. El sesgo positivo (ME = 1.70) indica una ligera sobreestimación sistemática por parte del modelo. El índice de persistencia (PI = 0.987) confirma que Qsim1 supera el desempeño de un modelo persistente de un paso, y el error porcentual en el pico (PEP = 1.48%) sugiere una alta precisión en la estimación de eventos extremos. En conjunto, Qsim1 demuestra una calidad aceptable para propósitos operativos, aunque claramente inferior a Qsim2."
      ],
      "metadata": {
        "id": "5vYU1do476Vp"
      }
    },
    {
      "cell_type": "markdown",
      "source": [
        "**Referencias:**"
      ],
      "metadata": {
        "id": "vgfUr2tl8UXE"
      }
    },
    {
      "cell_type": "markdown",
      "source": [
        "Domínguez, E. A., Dawson, C. W., Ramírez, A., & Abrahart, R. J. (2010). The search for orthogonal hydrological modelling metrics: A case study of twenty monitoring stations in Colombia. Journal of Hydroinformatics, Manuscript HYDRO-D-09-00016R2."
      ],
      "metadata": {
        "id": "WvUuqB2t8UPk"
      }
    }
  ]
}